{
 "cells": [
  {
   "cell_type": "code",
   "execution_count": null,
   "id": "66483f05",
   "metadata": {},
   "outputs": [],
   "source": [
    "import csv\n",
    "import prepare_data as prep\n",
    "\n",
    "with open('accel.csv', 'w', newline='') as f:\n",
    "    a = prep.read_acc_hdf('data.hdf5')\n",
    "    a = list(map(list, zip(*a)))\n",
    "    writer = csv.writer(f)\n",
    "    writer.writerows(a)\n",
    "\n",
    "with open('gps.csv', 'w', newline='') as f:\n",
    "    a = prep.read_gps_hdf('data.hdf5')\n",
    "    a = list(map(list, zip(*a)))\n",
    "    writer = csv.writer(f)\n",
    "    writer.writerows(a)"
   ]
  }
 ],
 "metadata": {
  "kernelspec": {
   "display_name": "Python 3",
   "language": "python",
   "name": "python3"
  },
  "language_info": {
   "codemirror_mode": {
    "name": "ipython",
    "version": 3
   },
   "file_extension": ".py",
   "mimetype": "text/x-python",
   "name": "python",
   "nbconvert_exporter": "python",
   "pygments_lexer": "ipython3",
   "version": "3.10.5"
  }
 },
 "nbformat": 4,
 "nbformat_minor": 5
}
